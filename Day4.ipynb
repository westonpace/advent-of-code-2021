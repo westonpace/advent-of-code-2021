{
 "cells": [
  {
   "cell_type": "code",
   "execution_count": 43,
   "id": "0ddd8cfd",
   "metadata": {},
   "outputs": [],
   "source": [
    "def load_numbers(f):\n",
    "    l = f.readline()\n",
    "    return [int(numstr.strip()) for numstr in l.split(',') if len(numstr.strip()) > 0]\n",
    "    \n",
    "def load_grids(lines):\n",
    "    grids = []\n",
    "    index = 0\n",
    "    while index < len(lines):\n",
    "        grid = []\n",
    "        for offset in range(5):\n",
    "            grid.append([int(numstr.strip()) for numstr in lines[index + offset].split() if len(numstr.strip()) > 0])\n",
    "        grids.append(grid)\n",
    "        index += 6\n",
    "    return grids\n",
    "\n",
    "with open('day_4_test_input') as f:\n",
    "    numbers = load_numbers(f)\n",
    "    f.readline()\n",
    "    grids = load_grids(f.readlines())\n",
    "    "
   ]
  },
  {
   "cell_type": "code",
   "execution_count": 44,
   "id": "8be773d6",
   "metadata": {},
   "outputs": [],
   "source": [
    "class BingoSquare(object):\n",
    "    \n",
    "    def __init__(self, value):\n",
    "        self.line_indices = []\n",
    "        self.marked = False\n",
    "        self.value = value\n",
    "\n",
    "class BingoGrid(object):\n",
    "    \n",
    "    def __init__(self, grid):\n",
    "        self.squares = []\n",
    "        self.num_to_square = {}\n",
    "        # 5 horiz then 5 vert then 2 diags\n",
    "        self.lines = [0] * 10\n",
    "        square_idx = 0\n",
    "        for row_idx in range(len(grid)):\n",
    "            for col_idx in range(len(grid[row_idx])):\n",
    "                value = grid[row_idx][col_idx]\n",
    "                square = BingoSquare(value)\n",
    "                self.squares.append(square)\n",
    "                self.num_to_square[value] = square\n",
    "                # Horizontal line\n",
    "                square.line_indices.append(row_idx)\n",
    "                # Vertical line\n",
    "                square.line_indices.append(col_idx + 5)\n",
    "                # Diagonal lines\n",
    "                # if (row_idx == col_idx):\n",
    "                #     square.line_indices.append(10)\n",
    "                # if (row_idx + col_idx == 4):\n",
    "                #     square.line_indices.append(11)\n",
    "                # print(f'value={value} line_indices={square.line_indices}')\n",
    "\n",
    "    def mark(self, value):\n",
    "        if not value in self.num_to_square:\n",
    "            return False\n",
    "        square = self.num_to_square[value]\n",
    "        square.marked = True\n",
    "        won = False\n",
    "        for line_idx in square.line_indices:\n",
    "            self.lines[line_idx] += 1\n",
    "            if self.lines[line_idx] == 5:\n",
    "                won = True\n",
    "        # print(f'Marked {value} lines={self.lines}')\n",
    "        return won\n",
    "    \n",
    "    def score(self):\n",
    "        return sum([square.value for square in self.squares if not square.marked])\n",
    "    \n",
    "bingo_grids = [BingoGrid(grid) for grid in grids]\n"
   ]
  },
  {
   "cell_type": "code",
   "execution_count": 45,
   "id": "80508df1",
   "metadata": {},
   "outputs": [
    {
     "ename": "TypeError",
     "evalue": "unhashable type: 'list'",
     "output_type": "error",
     "traceback": [
      "\u001b[0;31m---------------------------------------------------------------------------\u001b[0m",
      "\u001b[0;31mTypeError\u001b[0m                                 Traceback (most recent call last)",
      "\u001b[0;32m/tmp/ipykernel_9052/4113626095.py\u001b[0m in \u001b[0;36m<module>\u001b[0;34m\u001b[0m\n\u001b[1;32m     12\u001b[0m             \u001b[0;32melse\u001b[0m\u001b[0;34m:\u001b[0m\u001b[0;34m\u001b[0m\u001b[0;34m\u001b[0m\u001b[0m\n\u001b[1;32m     13\u001b[0m                 \u001b[0mgrids_to_remove\u001b[0m\u001b[0;34m.\u001b[0m\u001b[0madd\u001b[0m\u001b[0;34m(\u001b[0m\u001b[0mgrid\u001b[0m\u001b[0;34m)\u001b[0m\u001b[0;34m\u001b[0m\u001b[0;34m\u001b[0m\u001b[0m\n\u001b[0;32m---> 14\u001b[0;31m     \u001b[0mmygrids\u001b[0m \u001b[0;34m=\u001b[0m \u001b[0;34m[\u001b[0m\u001b[0mgrid\u001b[0m \u001b[0;32mfor\u001b[0m \u001b[0mgrid\u001b[0m \u001b[0;32min\u001b[0m \u001b[0mgrids\u001b[0m \u001b[0;32mif\u001b[0m \u001b[0mgrid\u001b[0m \u001b[0;32mnot\u001b[0m \u001b[0;32min\u001b[0m \u001b[0mgrids_to_remove\u001b[0m\u001b[0;34m]\u001b[0m\u001b[0;34m\u001b[0m\u001b[0;34m\u001b[0m\u001b[0m\n\u001b[0m\u001b[1;32m     15\u001b[0m     \u001b[0mprint\u001b[0m\u001b[0;34m(\u001b[0m\u001b[0mlen\u001b[0m\u001b[0;34m(\u001b[0m\u001b[0mmygrids\u001b[0m\u001b[0;34m)\u001b[0m\u001b[0;34m)\u001b[0m\u001b[0;34m\u001b[0m\u001b[0;34m\u001b[0m\u001b[0m\n\u001b[1;32m     16\u001b[0m     \u001b[0;32mif\u001b[0m \u001b[0mwon\u001b[0m\u001b[0;34m:\u001b[0m\u001b[0;34m\u001b[0m\u001b[0;34m\u001b[0m\u001b[0m\n",
      "\u001b[0;32m/tmp/ipykernel_9052/4113626095.py\u001b[0m in \u001b[0;36m<listcomp>\u001b[0;34m(.0)\u001b[0m\n\u001b[1;32m     12\u001b[0m             \u001b[0;32melse\u001b[0m\u001b[0;34m:\u001b[0m\u001b[0;34m\u001b[0m\u001b[0;34m\u001b[0m\u001b[0m\n\u001b[1;32m     13\u001b[0m                 \u001b[0mgrids_to_remove\u001b[0m\u001b[0;34m.\u001b[0m\u001b[0madd\u001b[0m\u001b[0;34m(\u001b[0m\u001b[0mgrid\u001b[0m\u001b[0;34m)\u001b[0m\u001b[0;34m\u001b[0m\u001b[0;34m\u001b[0m\u001b[0m\n\u001b[0;32m---> 14\u001b[0;31m     \u001b[0mmygrids\u001b[0m \u001b[0;34m=\u001b[0m \u001b[0;34m[\u001b[0m\u001b[0mgrid\u001b[0m \u001b[0;32mfor\u001b[0m \u001b[0mgrid\u001b[0m \u001b[0;32min\u001b[0m \u001b[0mgrids\u001b[0m \u001b[0;32mif\u001b[0m \u001b[0mgrid\u001b[0m \u001b[0;32mnot\u001b[0m \u001b[0;32min\u001b[0m \u001b[0mgrids_to_remove\u001b[0m\u001b[0;34m]\u001b[0m\u001b[0;34m\u001b[0m\u001b[0;34m\u001b[0m\u001b[0m\n\u001b[0m\u001b[1;32m     15\u001b[0m     \u001b[0mprint\u001b[0m\u001b[0;34m(\u001b[0m\u001b[0mlen\u001b[0m\u001b[0;34m(\u001b[0m\u001b[0mmygrids\u001b[0m\u001b[0;34m)\u001b[0m\u001b[0;34m)\u001b[0m\u001b[0;34m\u001b[0m\u001b[0;34m\u001b[0m\u001b[0m\n\u001b[1;32m     16\u001b[0m     \u001b[0;32mif\u001b[0m \u001b[0mwon\u001b[0m\u001b[0;34m:\u001b[0m\u001b[0;34m\u001b[0m\u001b[0;34m\u001b[0m\u001b[0m\n",
      "\u001b[0;31mTypeError\u001b[0m: unhashable type: 'list'"
     ]
    }
   ],
   "source": [
    "mygrids = bingo_grids.copy()\n",
    "\n",
    "for num in numbers:\n",
    "    won = False\n",
    "    grids_to_remove = set()\n",
    "    for grid in mygrids:\n",
    "        if grid.mark(num):\n",
    "            if (len(mygrids) == 1):\n",
    "                print(grid.score() * num)\n",
    "                won = True\n",
    "                break\n",
    "            else:\n",
    "                grids_to_remove.add(grid)\n",
    "    mygrids = [grid for grid in mygrids if grid not in grids_to_remove]\n",
    "    print(len(mygrids))\n",
    "    if won:\n",
    "        break"
   ]
  },
  {
   "cell_type": "code",
   "execution_count": null,
   "id": "0a652872",
   "metadata": {},
   "outputs": [],
   "source": []
  }
 ],
 "metadata": {
  "kernelspec": {
   "display_name": "Python 3 (ipykernel)",
   "language": "python",
   "name": "python3"
  },
  "language_info": {
   "codemirror_mode": {
    "name": "ipython",
    "version": 3
   },
   "file_extension": ".py",
   "mimetype": "text/x-python",
   "name": "python",
   "nbconvert_exporter": "python",
   "pygments_lexer": "ipython3",
   "version": "3.9.7"
  }
 },
 "nbformat": 4,
 "nbformat_minor": 5
}
