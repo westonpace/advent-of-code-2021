{
 "cells": [
  {
   "cell_type": "code",
   "execution_count": 14,
   "id": "946c0988",
   "metadata": {},
   "outputs": [
    {
     "name": "stdout",
     "output_type": "stream",
     "text": [
      "1000\n"
     ]
    }
   ],
   "source": [
    "from collections import namedtuple\n",
    "\n",
    "Instruction = namedtuple('Instruction', ['direction', 'distance'])\n",
    "\n",
    "instructions = []\n",
    "with open('day_2_input') as f:\n",
    "    for line in f.readlines():\n",
    "        direction, _, distance = line.partition(' ')\n",
    "        instructions.append(Instruction(direction=direction, distance=int(distance)))\n",
    "print(len(instructions))"
   ]
  },
  {
   "cell_type": "code",
   "execution_count": 15,
   "id": "0176b3fe",
   "metadata": {},
   "outputs": [
    {
     "name": "stdout",
     "output_type": "stream",
     "text": [
      "Position(x=2085, y=785)\n"
     ]
    }
   ],
   "source": [
    "Position = namedtuple('Position', ['x', 'y'])\n",
    "\n",
    "x = 0\n",
    "y = 0\n",
    "for instruction in instructions:\n",
    "    if instruction.direction == 'forward':\n",
    "        x += instruction.distance\n",
    "    elif instruction.direction == 'up':\n",
    "        y -= instruction.distance\n",
    "    elif instruction.direction == 'down':\n",
    "        y += instruction.distance\n",
    "      \n",
    "position = Position(x=x, y=y)\n",
    "print(position)"
   ]
  },
  {
   "cell_type": "code",
   "execution_count": 16,
   "id": "bdb08ce7",
   "metadata": {},
   "outputs": [
    {
     "name": "stdout",
     "output_type": "stream",
     "text": [
      "1636725\n"
     ]
    }
   ],
   "source": [
    "print(position.x * position.y)"
   ]
  },
  {
   "cell_type": "code",
   "execution_count": 17,
   "id": "fa17027e",
   "metadata": {},
   "outputs": [
    {
     "name": "stdout",
     "output_type": "stream",
     "text": [
      "Position(x=2085, y=898205)\n"
     ]
    }
   ],
   "source": [
    "aim = 0\n",
    "x = 0\n",
    "y = 0\n",
    "for instruction in instructions:\n",
    "    if instruction.direction == 'forward':\n",
    "        x += instruction.distance\n",
    "        y += aim * instruction.distance\n",
    "    elif instruction.direction == 'up':\n",
    "        aim -= instruction.distance\n",
    "    elif instruction.direction == 'down':\n",
    "        aim += instruction.distance\n",
    "        \n",
    "position = Position(x=x, y=y)\n",
    "print(position)"
   ]
  },
  {
   "cell_type": "code",
   "execution_count": 18,
   "id": "96ca65bc",
   "metadata": {},
   "outputs": [
    {
     "name": "stdout",
     "output_type": "stream",
     "text": [
      "1872757425\n"
     ]
    }
   ],
   "source": [
    "print(position.x * position.y)"
   ]
  },
  {
   "cell_type": "code",
   "execution_count": null,
   "id": "b980706d",
   "metadata": {},
   "outputs": [],
   "source": []
  }
 ],
 "metadata": {
  "kernelspec": {
   "display_name": "Python 3 (ipykernel)",
   "language": "python",
   "name": "python3"
  },
  "language_info": {
   "codemirror_mode": {
    "name": "ipython",
    "version": 3
   },
   "file_extension": ".py",
   "mimetype": "text/x-python",
   "name": "python",
   "nbconvert_exporter": "python",
   "pygments_lexer": "ipython3",
   "version": "3.9.7"
  }
 },
 "nbformat": 4,
 "nbformat_minor": 5
}
