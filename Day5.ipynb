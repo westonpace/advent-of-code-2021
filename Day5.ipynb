{
 "cells": [
  {
   "cell_type": "code",
   "execution_count": 44,
   "id": "e373b879",
   "metadata": {},
   "outputs": [],
   "source": [
    "from collections import namedtuple\n",
    "import itertools\n",
    "\n",
    "Point = namedtuple('Point', ['x', 'y'])\n",
    "Line = namedtuple('Line', ['start', 'end'])\n",
    "\n",
    "lines = []\n",
    "with open('day_5_test_input') as f:\n",
    "    for line in f.readlines():\n",
    "        line = line.strip()\n",
    "        left, _, right = line.partition(' -> ')\n",
    "        left_x, _, left_y = left.partition(',')\n",
    "        right_x, _, right_y = right.partition(',')\n",
    "        start = Point(x=int(left_x), y=int(left_y))\n",
    "        end = Point(x=int(right_x), y=int(right_y))\n",
    "        lines.append(Line(start=start, end=end))"
   ]
  },
  {
   "cell_type": "code",
   "execution_count": 45,
   "id": "2c1fd2a0",
   "metadata": {},
   "outputs": [
    {
     "name": "stdout",
     "output_type": "stream",
     "text": [
      "min_x=0 max_x=9 min_y=0 max_y=9 width=10 height=10 area=100\n"
     ]
    }
   ],
   "source": [
    "x_vals = list(itertools.chain.from_iterable([[line.start.x, line.end.x] for line in lines]))\n",
    "y_vals = list(itertools.chain.from_iterable([[line.start.y, line.end.y] for line in lines]))\n",
    "min_x = min(x_vals)\n",
    "max_x = max(x_vals)\n",
    "min_y = min(y_vals)\n",
    "max_y = max(y_vals)\n",
    "height = max_x + 1\n",
    "width = max_y + 1\n",
    "print(f'min_x={min_x} max_x={max_x} min_y={min_y} max_y={max_y} width={width} height={height} area={width*height}')"
   ]
  },
  {
   "cell_type": "code",
   "execution_count": 46,
   "id": "e830e111",
   "metadata": {},
   "outputs": [
    {
     "name": "stdout",
     "output_type": "stream",
     "text": [
      "line=Line(start=Point(x=0, y=9), end=Point(x=5, y=9))\n",
      "Walking from 90 for 6 with stride 1\n",
      "line=Line(start=Point(x=8, y=0), end=Point(x=0, y=8))\n",
      "Walking diag from 8 for 9 with stride 9\n",
      "line=Line(start=Point(x=9, y=4), end=Point(x=3, y=4))\n",
      "Walking from 43 for 7 with stride 1\n",
      "line=Line(start=Point(x=2, y=2), end=Point(x=2, y=1))\n",
      "Walking from 12 for 2 with stride 10\n",
      "line=Line(start=Point(x=7, y=0), end=Point(x=7, y=4))\n",
      "Walking from 7 for 5 with stride 10\n",
      "line=Line(start=Point(x=6, y=4), end=Point(x=2, y=0))\n",
      "Walking diag from 2 for 5 with stride 11\n",
      "line=Line(start=Point(x=0, y=9), end=Point(x=2, y=9))\n",
      "Walking from 90 for 3 with stride 1\n",
      "line=Line(start=Point(x=3, y=4), end=Point(x=1, y=4))\n",
      "Walking from 41 for 3 with stride 1\n",
      "line=Line(start=Point(x=0, y=0), end=Point(x=8, y=8))\n",
      "Walking diag from 0 for 9 with stride 11\n",
      "line=Line(start=Point(x=5, y=5), end=Point(x=8, y=2))\n",
      "Walking diag from 28 for 4 with stride 9\n",
      "12\n"
     ]
    }
   ],
   "source": [
    "counts = [0] * (width * height)\n",
    "\n",
    "def walk_line(start, length, stride):\n",
    "    for offset in range(length):\n",
    "        pos = start + stride * offset\n",
    "        # print(f'  Marking {pos}')\n",
    "        counts[pos] += 1\n",
    "        \n",
    "for line in lines:\n",
    "    print(f'line={line}')\n",
    "    pos_1 = line.start.x + line.start.y * width\n",
    "    pos_2 = line.end.x + line.end.y * width\n",
    "    if pos_1 > pos_2:\n",
    "        start_pos = pos_2\n",
    "        forward = line.end.x < line.start.x\n",
    "    else:\n",
    "        start_pos = pos_1\n",
    "        forward = line.start.x < line.end.x\n",
    "    if line.start.x == line.end.x:\n",
    "        length = abs(line.end.y - line.start.y) + 1\n",
    "        print(f'Walking from {start_pos} for {length} with stride {width}')\n",
    "        walk_line(start_pos, length, width)\n",
    "    elif line.start.y == line.end.y:\n",
    "        length = abs(line.end.x - line.start.x) + 1\n",
    "        print(f'Walking from {start_pos} for {length} with stride 1')\n",
    "        walk_line(start_pos, length, 1)\n",
    "    else:\n",
    "        if forward:\n",
    "            stride = width + 1\n",
    "            length = abs(line.end.x - line.start.x) + 1\n",
    "        else:\n",
    "            stride = width - 1\n",
    "            length = abs(line.start.x - line.end.x) + 1\n",
    "        print(f'Walking diag from {start_pos} for {length} with stride {stride}')\n",
    "        walk_line(start_pos, length, stride)\n",
    "print(len([x for x in counts if x > 1]))"
   ]
  },
  {
   "cell_type": "code",
   "execution_count": 47,
   "id": "487fb13d",
   "metadata": {},
   "outputs": [
    {
     "name": "stdout",
     "output_type": "stream",
     "text": [
      "1 0 1 0 0 0 0 1 1 0 \n",
      "0 1 1 1 0 0 0 2 0 0 \n",
      "0 0 2 0 1 0 1 1 1 0 \n",
      "0 0 0 1 0 2 0 2 0 0 \n",
      "0 1 1 2 3 1 3 2 1 1 \n",
      "0 0 0 1 0 2 0 0 0 0 \n",
      "0 0 1 0 0 0 1 0 0 0 \n",
      "0 1 0 0 0 0 0 1 0 0 \n",
      "1 0 0 0 0 0 0 0 1 0 \n",
      "2 2 2 1 1 1 0 0 0 0 \n"
     ]
    }
   ],
   "source": [
    "for row_idx in range(height):\n",
    "    for col_idx in range(width):\n",
    "        pos = col_idx + (row_idx * width)\n",
    "        print(counts[pos], end='')\n",
    "        print(' ', end='')\n",
    "    print()\n"
   ]
  }
 ],
 "metadata": {
  "kernelspec": {
   "display_name": "Python 3 (ipykernel)",
   "language": "python",
   "name": "python3"
  },
  "language_info": {
   "codemirror_mode": {
    "name": "ipython",
    "version": 3
   },
   "file_extension": ".py",
   "mimetype": "text/x-python",
   "name": "python",
   "nbconvert_exporter": "python",
   "pygments_lexer": "ipython3",
   "version": "3.9.7"
  }
 },
 "nbformat": 4,
 "nbformat_minor": 5
}
