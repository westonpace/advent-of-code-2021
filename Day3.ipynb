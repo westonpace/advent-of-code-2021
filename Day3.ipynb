{
 "cells": [
  {
   "cell_type": "code",
   "execution_count": 62,
   "id": "37fd7fa0",
   "metadata": {},
   "outputs": [
    {
     "name": "stdout",
     "output_type": "stream",
     "text": [
      "[501, 507, 506, 479, 505, 507, 519, 514, 481, 495, 501, 521]\n"
     ]
    }
   ],
   "source": [
    "count_ones = []\n",
    "values = []\n",
    "\n",
    "with open('day_3_input') as f:\n",
    "    for line in f.readlines():\n",
    "        row_values = []\n",
    "        for index, num in enumerate(line.strip()):\n",
    "            if len(count_ones) <= index:\n",
    "                count_ones.append(0)\n",
    "            if num == '1':\n",
    "                count_ones[index] += 1\n",
    "                row_values.append(True)\n",
    "            else:\n",
    "                row_values.append(False)\n",
    "        values.append(row_values)\n",
    "\n",
    "print(count_ones)\n",
    "num_rows = len(values)"
   ]
  },
  {
   "cell_type": "code",
   "execution_count": 63,
   "id": "a0abbce8",
   "metadata": {},
   "outputs": [
    {
     "name": "stdout",
     "output_type": "stream",
     "text": [
      "500.0\n"
     ]
    }
   ],
   "source": [
    "mid = num_rows / 2\n",
    "print(mid)"
   ]
  },
  {
   "cell_type": "code",
   "execution_count": 64,
   "id": "e4f5fce2",
   "metadata": {},
   "outputs": [],
   "source": [
    "def is_one_most_common(idx):\n",
    "    return count_ones[idx] > mid"
   ]
  },
  {
   "cell_type": "code",
   "execution_count": 65,
   "id": "46bd1b35",
   "metadata": {},
   "outputs": [
    {
     "name": "stdout",
     "output_type": "stream",
     "text": [
      "3827\n"
     ]
    }
   ],
   "source": [
    "gamma_rate = 0\n",
    "multiplier = 1\n",
    "for i in reversed(range(len(count_ones))):\n",
    "    if is_one_most_common(i):\n",
    "        gamma_rate += multiplier\n",
    "    multiplier *= 2\n",
    "    \n",
    "print(gamma_rate)"
   ]
  },
  {
   "cell_type": "code",
   "execution_count": 66,
   "id": "a59cf7dd",
   "metadata": {},
   "outputs": [
    {
     "name": "stdout",
     "output_type": "stream",
     "text": [
      "268\n"
     ]
    }
   ],
   "source": [
    "epsilon_rate = 0\n",
    "multiplier = 1\n",
    "for i in reversed(range(len(count_ones))):\n",
    "    if not is_one_most_common(i):\n",
    "        epsilon_rate += multiplier\n",
    "    multiplier *= 2\n",
    "    \n",
    "print(epsilon_rate)"
   ]
  },
  {
   "cell_type": "code",
   "execution_count": 67,
   "id": "29c9ceec",
   "metadata": {},
   "outputs": [
    {
     "name": "stdout",
     "output_type": "stream",
     "text": [
      "1025636\n"
     ]
    }
   ],
   "source": [
    "print(gamma_rate * epsilon_rate)"
   ]
  },
  {
   "cell_type": "code",
   "execution_count": 68,
   "id": "18efe95f",
   "metadata": {},
   "outputs": [
    {
     "name": "stdout",
     "output_type": "stream",
     "text": [
      "3089\n",
      "257\n",
      "793873\n"
     ]
    }
   ],
   "source": [
    "def partial_is_one_most_common(position, vals):\n",
    "    count = len([v for v in vals if v[position]])\n",
    "    return count >= len(vals) / 2\n",
    "\n",
    "def filter_by_bit(position, want_most_common, vals):\n",
    "    is_one_most_common = partial_is_one_most_common(position, vals)\n",
    "    if is_one_most_common and want_most_common:\n",
    "        want_one = True\n",
    "    elif want_most_common:\n",
    "        want_one = False\n",
    "    elif is_one_most_common:\n",
    "        want_one = False\n",
    "    else:\n",
    "        want_one = True\n",
    "\n",
    "    return [value for value in vals if value[position] == want_one]\n",
    "\n",
    "def filter_to_single(want_most_common, values):\n",
    "    idx = 0\n",
    "    filtered = values.copy()\n",
    "    while True:\n",
    "        filtered = filter_by_bit(idx, want_most_common, filtered)\n",
    "        if len(filtered) == 1:\n",
    "            return filtered[0]\n",
    "        idx += 1\n",
    "        \n",
    "def single_to_num(single):\n",
    "    multiplier = 1\n",
    "    res = 0\n",
    "    for idx in reversed(range(len(single))):\n",
    "        if single[idx]:\n",
    "            res += multiplier\n",
    "        multiplier *= 2\n",
    "    return res\n",
    "        \n",
    "o2_rating = filter_to_single(True, values)\n",
    "print(single_to_num(o2_rating))\n",
    "\n",
    "co2_rating = filter_to_single(False, values)\n",
    "print(single_to_num(co2_rating))\n",
    "\n",
    "print(single_to_num(o2_rating) * single_to_num(co2_rating))"
   ]
  },
  {
   "cell_type": "code",
   "execution_count": null,
   "id": "5360d170",
   "metadata": {},
   "outputs": [],
   "source": []
  }
 ],
 "metadata": {
  "kernelspec": {
   "display_name": "Python 3 (ipykernel)",
   "language": "python",
   "name": "python3"
  },
  "language_info": {
   "codemirror_mode": {
    "name": "ipython",
    "version": 3
   },
   "file_extension": ".py",
   "mimetype": "text/x-python",
   "name": "python",
   "nbconvert_exporter": "python",
   "pygments_lexer": "ipython3",
   "version": "3.9.7"
  }
 },
 "nbformat": 4,
 "nbformat_minor": 5
}
