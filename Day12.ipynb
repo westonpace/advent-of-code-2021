{
 "cells": [
  {
   "cell_type": "code",
   "execution_count": 40,
   "id": "27f63606",
   "metadata": {},
   "outputs": [],
   "source": [
    "class Node(object):\n",
    "    \n",
    "    def __init__(self, value):\n",
    "        self.paths = []\n",
    "        self.value = value\n",
    "\n",
    "nodes = {}\n",
    "\n",
    "def find_node(name):\n",
    "    if name in nodes:\n",
    "        return nodes[name]\n",
    "    nodes[name] = Node(name)\n",
    "    return nodes[name]\n",
    "        \n",
    "with open('day_12_input') as f:\n",
    "    for line in f.readlines():\n",
    "        src, _, dest = line.strip().partition('-')\n",
    "        src_node = find_node(src)\n",
    "        dest_node = find_node(dest)\n",
    "        src_node.paths.append(dest_node)\n",
    "        dest_node.paths.append(src_node)"
   ]
  },
  {
   "cell_type": "code",
   "execution_count": 42,
   "id": "0e1718c6",
   "metadata": {},
   "outputs": [
    {
     "name": "stdout",
     "output_type": "stream",
     "text": [
      "84271\n"
     ]
    }
   ],
   "source": [
    "class VisitState(object):\n",
    "    \n",
    "    def __init__(self):\n",
    "        self.visited = {}\n",
    "        self.current_node = find_node('start')\n",
    "        self.current_path = [self.current_node]\n",
    "        self.have_doubled = False\n",
    "        self.paths = 0\n",
    "        for node in nodes.values():\n",
    "            self.visited[node.value] = 0\n",
    "                        \n",
    "    def mark_node(self, node):\n",
    "        if self.visited[node.value] == 0:\n",
    "            self.visited[node.value] = 1\n",
    "        elif node.value.islower():\n",
    "            self.visited[node.value] = 2\n",
    "            self.have_doubled = True\n",
    "        \n",
    "    def clear_node(self, node):\n",
    "        if self.visited[node.value] == 2:\n",
    "            self.have_doubled = False\n",
    "            self.visited[node.value] = 1\n",
    "        else:\n",
    "            self.visited[node.value] = 0\n",
    "        \n",
    "    def can_visit(self, node):\n",
    "        if node.value == 'start':\n",
    "            return False\n",
    "        return node.value.isupper() or self.visited[node.value] == 0 or not self.have_doubled\n",
    "    \n",
    "    def visitable_choices(self, node):\n",
    "        for path in node.paths:\n",
    "            if self.can_visit(path):\n",
    "                yield path\n",
    "                \n",
    "    def print_path(self):\n",
    "        if False:\n",
    "            print(' '.join([node.value for node in self.current_path]))\n",
    "                \n",
    "    def visit_helper(self):\n",
    "        if self.current_node.value == 'end':\n",
    "            self.paths += 1\n",
    "            self.print_path()\n",
    "            return\n",
    "        self.mark_node(self.current_node)\n",
    "        was_node = self.current_node\n",
    "        for node in self.visitable_choices(self.current_node):\n",
    "            self.current_path.append(node)\n",
    "            self.current_node = node\n",
    "            self.visit_helper()\n",
    "            self.current_path.pop()\n",
    "        self.current_node = was_node\n",
    "        self.clear_node(self.current_node)\n",
    "        \n",
    "    def visit(self):\n",
    "        self.visit_helper()\n",
    "        print(self.paths)\n",
    "                \n",
    "VisitState().visit()"
   ]
  },
  {
   "cell_type": "code",
   "execution_count": null,
   "id": "46c6eb35",
   "metadata": {},
   "outputs": [],
   "source": []
  }
 ],
 "metadata": {
  "kernelspec": {
   "display_name": "Python 3 (ipykernel)",
   "language": "python",
   "name": "python3"
  },
  "language_info": {
   "codemirror_mode": {
    "name": "ipython",
    "version": 3
   },
   "file_extension": ".py",
   "mimetype": "text/x-python",
   "name": "python",
   "nbconvert_exporter": "python",
   "pygments_lexer": "ipython3",
   "version": "3.9.7"
  }
 },
 "nbformat": 4,
 "nbformat_minor": 5
}
