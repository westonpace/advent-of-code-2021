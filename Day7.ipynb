{
 "cells": [
  {
   "cell_type": "code",
   "execution_count": 12,
   "id": "1fb6ce47",
   "metadata": {},
   "outputs": [
    {
     "name": "stdout",
     "output_type": "stream",
     "text": [
      "[16, 1, 2, 0, 4, 2, 7, 1, 2, 14]\n"
     ]
    }
   ],
   "source": [
    "with open('day_7_test_input') as f:\n",
    "    values = [int(s) for s in f.readline().strip().split(',')]\n",
    "print(values)"
   ]
  },
  {
   "cell_type": "code",
   "execution_count": 13,
   "id": "400c022a",
   "metadata": {},
   "outputs": [
    {
     "name": "stdout",
     "output_type": "stream",
     "text": [
      "290.0 0\n",
      "242.0 1\n",
      "206.0 2\n",
      "183.0 3\n",
      "170.0 4\n",
      "168.0 5\n",
      "176.0 6\n",
      "194.0 7\n",
      "223.0 8\n",
      "262.0 9\n",
      "311.0 10\n",
      "370.0 11\n",
      "439.0 12\n",
      "518.0 13\n",
      "607.0 14\n",
      "707.0 15\n",
      "168.0\n",
      "5\n"
     ]
    }
   ],
   "source": [
    "min_ = min(values)\n",
    "max_ = max(values)\n",
    "\n",
    "def simple_score(possibility):\n",
    "    return sum([abs(val - possibility) for val in values])\n",
    "\n",
    "def complex_distance(a, b):\n",
    "    diff = abs(a - b)\n",
    "    return (diff * (diff + 1)) / 2\n",
    "\n",
    "def complex_score(possibility):\n",
    "    return sum([complex_distance(val, possibility) for val in values])\n",
    "\n",
    "min_score = None\n",
    "min_pos = None\n",
    "for possibility in range(min_, max_):\n",
    "    score_ = complex_score(possibility)\n",
    "    print(f'{score_} {possibility}')\n",
    "    if min_score is None or score_ < min_score:\n",
    "        min_score = score_\n",
    "        min_pos = possibility\n",
    "\n",
    "print(min_score)\n",
    "print(min_pos)"
   ]
  },
  {
   "cell_type": "code",
   "execution_count": null,
   "id": "34607b05",
   "metadata": {},
   "outputs": [],
   "source": []
  }
 ],
 "metadata": {
  "kernelspec": {
   "display_name": "Python 3 (ipykernel)",
   "language": "python",
   "name": "python3"
  },
  "language_info": {
   "codemirror_mode": {
    "name": "ipython",
    "version": 3
   },
   "file_extension": ".py",
   "mimetype": "text/x-python",
   "name": "python",
   "nbconvert_exporter": "python",
   "pygments_lexer": "ipython3",
   "version": "3.9.7"
  }
 },
 "nbformat": 4,
 "nbformat_minor": 5
}
