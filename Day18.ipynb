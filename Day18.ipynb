{
 "cells": [
  {
   "cell_type": "code",
   "execution_count": 4,
   "id": "53ea4d46",
   "metadata": {},
   "outputs": [
    {
     "name": "stdout",
     "output_type": "stream",
     "text": [
      "[[[[0, [5, 8]], [[1, 7], [9, 6]]], [[4, [1, 2]], [[1, 4], 2]]], [[[5, [2, 8]], 4], [5, [[9, 9], 0]]], [6, [[[6, 2], [5, 6]], [[7, 6], [4, 7]]]], [[[6, [0, 7]], [0, 9]], [4, [9, [9, 0]]]], [[[7, [6, 4]], [3, [1, 3]]], [[[5, 5], 1], 9]], [[6, [[7, 3], [3, 2]]], [[[3, 8], [5, 7]], 4]], [[[[5, 4], [7, 7]], 8], [[8, 3], 8]], [[9, 3], [[9, 9], [6, [4, 9]]]], [[2, [[7, 7], 7]], [[5, 8], [[9, 3], [0, 2]]]], [[[[5, 2], 5], [8, [3, 7]]], [[5, [7, 5]], [4, 4]]]]\n"
     ]
    }
   ],
   "source": [
    "snails = []\n",
    "with open('day_18_test_input') as f:\n",
    "    for line in f.readlines():\n",
    "        nstart = None\n",
    "        stack = []\n",
    "        cur = [None, None]\n",
    "        lval = None\n",
    "        for i, c in enumerate(line.strip()):\n",
    "            if c == '[':\n",
    "                stack.append(cur)\n",
    "                cur = [None, None]\n",
    "            elif c == ',':\n",
    "                if nstart is not None:\n",
    "                    cur[0] = int(line[nstart:i])\n",
    "                    nstart = None\n",
    "                else:\n",
    "                    cur[0] = lval\n",
    "                    lval = None\n",
    "            elif c == ']':\n",
    "                if nstart is not None:\n",
    "                    cur[1] = int(line[nstart:i])\n",
    "                    nstart = None\n",
    "                else:\n",
    "                    cur[1] = lval\n",
    "                    lval = None\n",
    "                lval = cur\n",
    "                cur = stack.pop()\n",
    "            else:\n",
    "                if nstart is None:\n",
    "                    nstart = i\n",
    "        snails.append(lval)\n",
    "print(snails)"
   ]
  },
  {
   "cell_type": "code",
   "execution_count": 6,
   "id": "53bf0ede",
   "metadata": {},
   "outputs": [
    {
     "data": {
      "text/plain": [
       "[[[[[[[[[[[[0, [5, 8]], [[1, 7], [9, 6]]], [[4, [1, 2]], [[1, 4], 2]]],\n",
       "         [[[5, [2, 8]], 4], [5, [[9, 9], 0]]]],\n",
       "        [6, [[[6, 2], [5, 6]], [[7, 6], [4, 7]]]]],\n",
       "       [[[6, [0, 7]], [0, 9]], [4, [9, [9, 0]]]]],\n",
       "      [[[7, [6, 4]], [3, [1, 3]]], [[[5, 5], 1], 9]]],\n",
       "     [[6, [[7, 3], [3, 2]]], [[[3, 8], [5, 7]], 4]]],\n",
       "    [[[[5, 4], [7, 7]], 8], [[8, 3], 8]]],\n",
       "   [[9, 3], [[9, 9], [6, [4, 9]]]]],\n",
       "  [[2, [[7, 7], 7]], [[5, 8], [[9, 3], [0, 2]]]]],\n",
       " [[[[5, 2], 5], [8, [3, 7]]], [[5, [7, 5]], [4, 4]]]]"
      ]
     },
     "execution_count": 6,
     "metadata": {},
     "output_type": "execute_result"
    }
   ],
   "source": [
    "class Node(object):\n",
    "    \n",
    "    def __init__(val, left, right):\n",
    "        self.val = val\n",
    "        self.left = left\n",
    "        self.right = right\n",
    "\n",
    "def reduce(val):\n",
    "    return val\n",
    "\n",
    "def add_snails(x, y):\n",
    "    combined = [x, y]\n",
    "    return reduce(combined)\n",
    "\n",
    "value = snails[0]\n",
    "for nval in snails[1:]:\n",
    "    value = add_snails(value, nval)\n",
    "value\n",
    "\n",
    "snail = snails[0]\n",
    "print(snail)\n"
   ]
  },
  {
   "cell_type": "code",
   "execution_count": null,
   "id": "1f81ae32",
   "metadata": {},
   "outputs": [],
   "source": []
  }
 ],
 "metadata": {
  "kernelspec": {
   "display_name": "Python 3 (ipykernel)",
   "language": "python",
   "name": "python3"
  },
  "language_info": {
   "codemirror_mode": {
    "name": "ipython",
    "version": 3
   },
   "file_extension": ".py",
   "mimetype": "text/x-python",
   "name": "python",
   "nbconvert_exporter": "python",
   "pygments_lexer": "ipython3",
   "version": "3.9.7"
  }
 },
 "nbformat": 4,
 "nbformat_minor": 5
}
