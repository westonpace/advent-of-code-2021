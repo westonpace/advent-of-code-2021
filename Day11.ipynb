{
 "cells": [
  {
   "cell_type": "code",
   "execution_count": 55,
   "id": "392e7c5a",
   "metadata": {},
   "outputs": [
    {
     "name": "stdout",
     "output_type": "stream",
     "text": [
      "10x10\n",
      "4 5 2 5 4 3 6 4 1 7\n",
      "1 8 5 1 2 4 2 5 5 3\n",
      "5 4 2 1 4 3 5 5 2 1\n",
      "8 4 3 1 3 2 5 4 4 7\n",
      "4 5 1 7 4 3 8 3 3 2\n",
      "3 5 2 1 2 6 2 1 1 1\n",
      "3 3 3 1 5 4 1 7 3 4\n",
      "4 3 5 1 8 3 6 6 4 1\n",
      "2 7 5 3 8 8 1 4 4 2\n",
      "7 7 1 7 6 1 6 8 6 3\n"
     ]
    }
   ],
   "source": [
    "grid = []\n",
    "with open('day_11_input') as f:\n",
    "    for line in f.readlines():\n",
    "        grid.append([int(c) for c in line.strip()])\n",
    "height = len(grid)\n",
    "width = len(grid[0])\n",
    "print(f'{width}x{height}')\n",
    "\n",
    "def print_grid(grid):\n",
    "    for row in grid:\n",
    "        print(' '.join([str(cell) for cell in row]))\n",
    "    \n",
    "print_grid(grid)"
   ]
  },
  {
   "cell_type": "code",
   "execution_count": 49,
   "id": "2fa8a580",
   "metadata": {},
   "outputs": [],
   "source": [
    "def neighbors(grid, row, col):\n",
    "    if row > 0 and col > 0:\n",
    "        yield row-1, col-1\n",
    "    if row > 0:\n",
    "        yield row-1, col\n",
    "    if row > 0 and col < width - 1:\n",
    "        yield row-1, col+1\n",
    "    if col > 0:\n",
    "        yield row, col-1\n",
    "    if col < width - 1:\n",
    "        yield row, col+1\n",
    "    if row < height - 1 and col > 0:\n",
    "        yield row+1, col-1\n",
    "    if row < height - 1:\n",
    "        yield row+1, col\n",
    "    if row < height - 1 and col < width - 1:\n",
    "        yield row+1, col+1\n",
    "        \n",
    "def cells(grid):\n",
    "    for row in range(height):\n",
    "        for col in range(width):\n",
    "            yield row, col, grid[row][col]"
   ]
  },
  {
   "cell_type": "code",
   "execution_count": 50,
   "id": "6344e394",
   "metadata": {},
   "outputs": [
    {
     "name": "stdout",
     "output_type": "stream",
     "text": [
      "3 5 5 5 5 5 5 5 5 3 \n",
      "5 8 8 8 8 8 8 8 8 5 \n",
      "5 8 8 8 8 8 8 8 8 5 \n",
      "5 8 8 8 8 8 8 8 8 5 \n",
      "5 8 8 8 8 8 8 8 8 5 \n",
      "5 8 8 8 8 8 8 8 8 5 \n",
      "5 8 8 8 8 8 8 8 8 5 \n",
      "5 8 8 8 8 8 8 8 8 5 \n",
      "5 8 8 8 8 8 8 8 8 5 \n",
      "3 5 5 5 5 5 5 5 5 3 \n",
      "100\n"
     ]
    }
   ],
   "source": [
    "for row in range(height):\n",
    "    for col in range(width):\n",
    "        print(len(list(neighbors(grid, row, col))), end='')\n",
    "        print(' ', end='')\n",
    "    print()\n",
    "print(len(list(cells(grid))))"
   ]
  },
  {
   "cell_type": "code",
   "execution_count": 51,
   "id": "7737cfe8",
   "metadata": {},
   "outputs": [],
   "source": [
    "def bump(grid):\n",
    "    for row, col, value in cells(grid):\n",
    "        grid[row][col] = value + 1\n",
    "        \n",
    "def explode(grid):\n",
    "    to_glow = []\n",
    "    blown = list([False] * width for _ in range(height))\n",
    "    count_boomed = 0\n",
    "    \n",
    "    def boom(row, col):\n",
    "        nonlocal count_boomed\n",
    "        to_glow.append((row, col))\n",
    "        blown[row][col] = True\n",
    "        grid[row][col] = 0\n",
    "        count_boomed += 1\n",
    "    \n",
    "    for row, col, value in cells(grid):\n",
    "        if value > 9:\n",
    "            boom(row, col)\n",
    "    while to_glow:\n",
    "        next_to_glow = to_glow.pop()\n",
    "        for nrow, ncol in neighbors(grid, *next_to_glow):\n",
    "            if not blown[nrow][ncol]:\n",
    "                grid[nrow][ncol] += 1\n",
    "                if grid[nrow][ncol] > 9:\n",
    "                    boom(nrow, ncol)\n",
    "    return count_boomed"
   ]
  },
  {
   "cell_type": "code",
   "execution_count": 52,
   "id": "a80a20f1",
   "metadata": {},
   "outputs": [
    {
     "name": "stdout",
     "output_type": "stream",
     "text": [
      "1652\n"
     ]
    }
   ],
   "source": [
    "mygrid = [row.copy() for row in grid]\n",
    "\n",
    "count = 0\n",
    "\n",
    "for _ in range(100):\n",
    "    bump(mygrid)\n",
    "    count += explode(mygrid)\n",
    "    \n",
    "print(count)"
   ]
  },
  {
   "cell_type": "code",
   "execution_count": 56,
   "id": "712c95dc",
   "metadata": {},
   "outputs": [
    {
     "name": "stdout",
     "output_type": "stream",
     "text": [
      "220\n"
     ]
    }
   ],
   "source": [
    "mygrid = [row.copy() for row in grid]\n",
    "\n",
    "day = 0\n",
    "while True:\n",
    "    day += 1\n",
    "    bump(mygrid)\n",
    "    if explode(mygrid) == width * height:\n",
    "        break\n",
    "print(day)"
   ]
  },
  {
   "cell_type": "code",
   "execution_count": null,
   "id": "229e8f0b",
   "metadata": {},
   "outputs": [],
   "source": []
  }
 ],
 "metadata": {
  "kernelspec": {
   "display_name": "Python 3 (ipykernel)",
   "language": "python",
   "name": "python3"
  },
  "language_info": {
   "codemirror_mode": {
    "name": "ipython",
    "version": 3
   },
   "file_extension": ".py",
   "mimetype": "text/x-python",
   "name": "python",
   "nbconvert_exporter": "python",
   "pygments_lexer": "ipython3",
   "version": "3.9.7"
  }
 },
 "nbformat": 4,
 "nbformat_minor": 5
}
