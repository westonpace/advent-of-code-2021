{
 "cells": [
  {
   "cell_type": "code",
   "execution_count": 12,
   "id": "52eea72b",
   "metadata": {},
   "outputs": [
    {
     "name": "stdout",
     "output_type": "stream",
     "text": [
      "[1, 1, 5, 2, 1, 1, 5, 5, 3, 1, 1, 1, 1, 1, 1, 3, 4, 5, 2, 1, 2, 1, 1, 1, 1, 1, 1, 1, 1, 3, 1, 1, 5, 4, 5, 1, 5, 3, 1, 3, 2, 1, 1, 1, 1, 2, 4, 1, 5, 1, 1, 1, 4, 4, 1, 1, 1, 1, 1, 1, 3, 4, 5, 1, 1, 2, 1, 1, 5, 1, 1, 4, 1, 4, 4, 2, 4, 4, 2, 2, 1, 2, 3, 1, 1, 2, 5, 3, 1, 1, 1, 4, 1, 2, 2, 1, 4, 1, 1, 2, 5, 1, 3, 2, 5, 2, 5, 1, 1, 1, 5, 3, 1, 3, 1, 5, 3, 3, 4, 1, 1, 4, 4, 1, 3, 3, 2, 5, 5, 1, 1, 1, 1, 3, 1, 5, 2, 1, 3, 5, 1, 4, 3, 1, 3, 1, 1, 3, 1, 1, 1, 1, 1, 1, 5, 1, 1, 5, 5, 2, 1, 5, 1, 4, 1, 1, 5, 1, 1, 1, 5, 5, 5, 1, 4, 5, 1, 3, 1, 2, 5, 1, 1, 1, 5, 1, 1, 4, 1, 1, 2, 3, 1, 3, 4, 1, 2, 1, 4, 3, 1, 2, 4, 1, 5, 1, 1, 1, 1, 1, 3, 4, 1, 1, 5, 1, 1, 3, 1, 1, 2, 1, 3, 1, 2, 1, 1, 3, 3, 4, 5, 3, 5, 1, 1, 1, 1, 1, 1, 1, 1, 1, 5, 4, 1, 5, 1, 3, 1, 1, 2, 5, 1, 1, 4, 1, 1, 4, 4, 3, 1, 2, 1, 2, 4, 4, 4, 1, 2, 1, 3, 2, 4, 4, 1, 1, 1, 1, 4, 1, 1, 1, 1, 1, 4, 1, 5, 4, 1, 5, 4, 1, 1, 2, 5, 5, 1, 1, 1, 5]\n"
     ]
    }
   ],
   "source": [
    "fishes = []\n",
    "\n",
    "with open('day_6_input') as f:\n",
    "    line = f.readline().strip()\n",
    "    fishes = [int(fish_str) for fish_str in line.split(',')]\n",
    "    \n",
    "print(fishes)"
   ]
  },
  {
   "cell_type": "code",
   "execution_count": 13,
   "id": "e7c9d5c4",
   "metadata": {},
   "outputs": [
    {
     "name": "stdout",
     "output_type": "stream",
     "text": [
      "[0, 155, 31, 33, 38, 43, 0, 0, 0]\n"
     ]
    }
   ],
   "source": [
    "fish_counts = [0] * 9\n",
    "for fish in fishes:\n",
    "    fish_counts[fish] += 1\n",
    "    \n",
    "print(fish_counts)"
   ]
  },
  {
   "cell_type": "code",
   "execution_count": 14,
   "id": "db66a93b",
   "metadata": {},
   "outputs": [
    {
     "name": "stdout",
     "output_type": "stream",
     "text": [
      "1675781200288\n"
     ]
    }
   ],
   "source": [
    "def run_day(fish_counts):\n",
    "    new_counts = [0] * 9\n",
    "    for i in range(1, 9):\n",
    "        new_counts[i-1] = fish_counts[i]\n",
    "    new_counts[8] += fish_counts[0]\n",
    "    new_counts[6] += fish_counts[0]\n",
    "    return new_counts\n",
    "    \n",
    "my_counts = fish_counts.copy()\n",
    "for _ in range(256):\n",
    "    my_counts = run_day(my_counts)\n",
    "\n",
    "print(sum(my_counts))"
   ]
  },
  {
   "cell_type": "code",
   "execution_count": null,
   "id": "dfeb838c",
   "metadata": {},
   "outputs": [],
   "source": []
  }
 ],
 "metadata": {
  "kernelspec": {
   "display_name": "Python 3 (ipykernel)",
   "language": "python",
   "name": "python3"
  },
  "language_info": {
   "codemirror_mode": {
    "name": "ipython",
    "version": 3
   },
   "file_extension": ".py",
   "mimetype": "text/x-python",
   "name": "python",
   "nbconvert_exporter": "python",
   "pygments_lexer": "ipython3",
   "version": "3.9.7"
  }
 },
 "nbformat": 4,
 "nbformat_minor": 5
}
