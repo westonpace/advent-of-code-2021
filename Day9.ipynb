{
 "cells": [
  {
   "cell_type": "code",
   "execution_count": 27,
   "id": "8baa4538",
   "metadata": {},
   "outputs": [
    {
     "name": "stdout",
     "output_type": "stream",
     "text": [
      "100x100\n"
     ]
    }
   ],
   "source": [
    "grid = []\n",
    "with open('day_9_input') as f:\n",
    "    for line in f.readlines():\n",
    "        grid.append([int(c) for c in line.strip()])\n",
    "height = len(grid)\n",
    "width = len(grid[0])\n",
    "print(f'{width}x{height}')"
   ]
  },
  {
   "cell_type": "code",
   "execution_count": 28,
   "id": "e22e187b",
   "metadata": {},
   "outputs": [
    {
     "name": "stdout",
     "output_type": "stream",
     "text": [
      "[2, 3, 2, 1, 0, 2, 0, 1, 2, 1, 5, 1, 0, 2, 1, 3, 0, 5, 1, 1, 4, 1, 0, 2, 0, 3, 0, 0, 0, 2, 0, 0, 4, 0, 3, 3, 0, 0, 2, 3, 0, 0, 0, 0, 1, 0, 1, 5, 4, 0, 1, 2, 1, 1, 1, 6, 0, 1, 4, 1, 1, 1, 1, 2, 3, 0, 3, 0, 1, 0, 0, 0, 3, 0, 0, 0, 0, 0, 0, 4, 1, 3, 0, 6, 0, 0, 4, 1, 0, 0, 5, 1, 1, 0, 5, 1, 1, 3, 5, 2, 3, 2, 2, 4, 0, 1, 1, 0, 0, 4, 0, 0, 2, 0, 1, 2, 2, 0, 1, 0, 1, 1, 0, 0, 1, 3, 2, 0, 4, 2, 0, 0, 1, 0, 0, 5, 0, 1, 0, 1, 0, 1, 1, 4, 0, 0, 1, 5, 1, 4, 1, 2, 1, 4, 1, 0, 2, 1, 3, 0, 0, 0, 0, 3, 0, 2, 1, 3, 0, 1, 1, 0, 2, 0, 1, 0, 3, 0, 0, 1, 2, 1, 1, 0, 1, 0, 0, 1, 0, 0, 2, 0, 0, 0, 3, 0, 4, 1, 1, 2, 1, 1, 1, 0, 2, 4, 2, 1, 1, 3, 0, 1, 2, 1, 0, 4, 1, 3, 0, 3, 0, 0, 0, 0]\n",
      "518\n"
     ]
    }
   ],
   "source": [
    "def neighbors(row, col):\n",
    "    if row > 0:\n",
    "        yield row-1, col, grid[row-1][col]\n",
    "    if col > 0:\n",
    "        yield row, col-1, grid[row][col-1]\n",
    "    if row < height - 1:\n",
    "        yield row + 1, col, grid[row+1][col]\n",
    "    if col < width - 1:\n",
    "        yield row, col + 1, grid[row][col+1]\n",
    "\n",
    "def cells():\n",
    "    for row_idx in range(height):\n",
    "        for col_idx in range(width):\n",
    "            cell = grid[row_idx][col_idx]\n",
    "            yield row_idx, col_idx, cell\n",
    "        \n",
    "danger_spots = []\n",
    "        \n",
    "for row_idx, col_idx, cell in cells():\n",
    "    safe_neighbors = len([neighbor for _, _, neighbor in neighbors(row_idx, col_idx) if neighbor <= cell])\n",
    "    if safe_neighbors == 0:\n",
    "        danger_spots.append(cell)\n",
    "            \n",
    "print(danger_spots)\n",
    "print(sum(danger_spots) + len(danger_spots))"
   ]
  },
  {
   "cell_type": "code",
   "execution_count": 29,
   "id": "62764355",
   "metadata": {},
   "outputs": [
    {
     "name": "stdout",
     "output_type": "stream",
     "text": [
      "[93, 122, 187]\n",
      "949905\n"
     ]
    }
   ],
   "source": [
    "marked = [[False] * width for _ in range(height)]\n",
    "basins = []\n",
    "\n",
    "def visit_basin_helper(row_idx, col_idx, basin):\n",
    "    basin.append((row_idx, col_idx, grid[row_idx][col_idx]))\n",
    "    marked[row_idx][col_idx] = True\n",
    "    for nrow, ncol, neighbor in neighbors(row_idx, col_idx):\n",
    "        if marked[nrow][ncol]:\n",
    "            continue\n",
    "        if neighbor == 9:\n",
    "            continue\n",
    "        visit_basin_helper(nrow, ncol, basin)\n",
    "        \n",
    "def visit_basin(row_idx, col_idx):\n",
    "    basin = []\n",
    "    visit_basin_helper(row_idx, col_idx, basin)\n",
    "    return basin\n",
    "        \n",
    "for row_idx, col_idx, cell in cells():\n",
    "    if marked[row_idx][col_idx]:\n",
    "        continue\n",
    "    if cell == 9:\n",
    "        continue\n",
    "    basins.append(visit_basin(row_idx, col_idx))\n",
    "    \n",
    "top_3_indices = sorted(range(len(basins)), key=lambda i: len(basins[i]))[-3:]\n",
    "print(top_3_indices)\n",
    "\n",
    "product = 1\n",
    "for index in top_3_indices:\n",
    "    product *= len(basins[index])\n",
    "print(product)"
   ]
  },
  {
   "cell_type": "code",
   "execution_count": null,
   "id": "fb7e194d",
   "metadata": {},
   "outputs": [],
   "source": []
  }
 ],
 "metadata": {
  "kernelspec": {
   "display_name": "Python 3 (ipykernel)",
   "language": "python",
   "name": "python3"
  },
  "language_info": {
   "codemirror_mode": {
    "name": "ipython",
    "version": 3
   },
   "file_extension": ".py",
   "mimetype": "text/x-python",
   "name": "python",
   "nbconvert_exporter": "python",
   "pygments_lexer": "ipython3",
   "version": "3.9.7"
  }
 },
 "nbformat": 4,
 "nbformat_minor": 5
}
