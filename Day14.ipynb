{
 "cells": [
  {
   "cell_type": "code",
   "execution_count": 23,
   "id": "897d3e7d",
   "metadata": {},
   "outputs": [
    {
     "name": "stdout",
     "output_type": "stream",
     "text": [
      "BNBBNCFHHKOSCHBKKSHN\n"
     ]
    }
   ],
   "source": [
    "from collections import Counter\n",
    "\n",
    "template = None\n",
    "rules = []\n",
    "\n",
    "with open('day_14_input') as f:\n",
    "    template = f.readline().strip()\n",
    "    f.readline()\n",
    "    for line in f.readlines():\n",
    "        src, _, dst = line.strip().partition(' -> ')\n",
    "        rules.append((src, dst))\n",
    "\n",
    "rules_map = {rule[0]: rule[1] for rule in rules}\n",
    "letters = set()\n",
    "for rule in rules_map.keys():\n",
    "    for c in rule:\n",
    "        letters.add(c)\n",
    "\n",
    "print(template)"
   ]
  },
  {
   "cell_type": "code",
   "execution_count": 20,
   "id": "cd5b9d7b",
   "metadata": {},
   "outputs": [
    {
     "name": "stdout",
     "output_type": "stream",
     "text": [
      "19457\n",
      "[('N', 4088), ('P', 2602), ('V', 2228), ('K', 1904), ('S', 1826), ('H', 1671), ('F', 1422), ('B', 1380), ('C', 1257), ('O', 1079)]\n",
      "3009\n"
     ]
    }
   ],
   "source": [
    "def apply(s, rules_map):\n",
    "    parts = [s[x:x+2] for x in range(len(s) - 1)]\n",
    "    output = ''\n",
    "    for i in range(len(s)):\n",
    "        output += s[i]\n",
    "        if i < len(parts):\n",
    "            part = parts[i]\n",
    "            if part in rules_map:\n",
    "                output += rules_map[part]\n",
    "    return output\n",
    "    \n",
    "val = template\n",
    "for _ in range(10):\n",
    "  val = apply(val, rules_map)\n",
    "\n",
    "print(len(val))\n",
    "counter = Counter(val)\n",
    "counts = counter.most_common()\n",
    "print(counts)\n",
    "print(counts[0][1] - counts[-1][1])"
   ]
  },
  {
   "cell_type": "code",
   "execution_count": 30,
   "id": "89e0e2e5",
   "metadata": {},
   "outputs": [
    {
     "name": "stdout",
     "output_type": "stream",
     "text": [
      "{'CH': 1, 'KK': 1, 'FS': 0, 'CN': 0, 'VC': 0, 'CB': 0, 'VK': 0, 'CF': 1, 'PO': 0, 'KC': 0, 'HC': 0, 'PP': 0, 'KO': 1, 'BK': 1, 'BH': 0, 'CC': 0, 'PC': 0, 'FK': 0, 'KF': 0, 'FH': 1, 'SS': 0, 'ON': 0, 'OV': 0, 'NK': 0, 'BO': 0, 'VP': 0, 'CS': 0, 'KS': 1, 'SK': 0, 'OP': 0, 'PK': 0, 'HF': 0, 'SV': 0, 'SB': 0, 'BC': 0, 'FP': 0, 'FC': 0, 'PB': 0, 'NV': 0, 'VO': 0, 'VH': 0, 'BB': 1, 'SF': 0, 'NB': 1, 'KB': 0, 'VV': 0, 'NP': 0, 'SO': 0, 'PN': 0, 'BP': 0, 'BV': 0, 'OB': 0, 'HV': 0, 'PF': 0, 'SP': 0, 'HN': 1, 'CV': 0, 'BN': 2, 'PS': 0, 'CO': 0, 'BS': 0, 'VB': 0, 'PV': 0, 'NN': 0, 'HS': 0, 'OS': 1, 'FB': 0, 'HO': 0, 'KH': 0, 'HB': 1, 'VF': 0, 'CK': 0, 'FF': 0, 'FN': 0, 'OK': 0, 'SC': 1, 'HH': 1, 'OH': 0, 'VS': 0, 'FO': 0, 'OC': 0, 'NF': 0, 'PH': 0, 'HK': 1, 'NH': 0, 'FV': 0, 'OF': 0, 'NC': 1, 'HP': 0, 'KP': 0, 'BF': 0, 'NO': 0, 'CP': 0, 'NS': 0, 'VN': 0, 'KV': 0, 'OO': 0, 'SN': 0, 'KN': 0, 'SH': 1}\n",
      "19\n",
      "20\n",
      "{'CH': 34410948802, 'KK': 578434674405, 'FS': 246988051782, 'CN': 372678666065, 'VC': 0, 'CB': 97506901667, 'VK': 535976141075, 'CF': 0, 'PO': 47055184112, 'KC': 226791344773, 'HC': 94088427973, 'PP': 191454815265, 'KO': 0, 'BK': 0, 'BH': 47864972283, 'CC': 291779493038, 'PC': 47046932533, 'FK': 47383858922, 'KF': 0, 'FH': 273262403441, 'SS': 0, 'ON': 59329968889, 'OV': 130178933848, 'NK': 190646138379, 'BO': 0, 'VP': 146176516794, 'CS': 40135411277, 'KS': 405920169736, 'SK': 0, 'OP': 219723646311, 'PK': 1, 'HF': 142640539803, 'SV': 254879001115, 'SB': 195017671186, 'BC': 210895648309, 'FP': 34296975570, 'FC': 0, 'PB': 667826087632, 'NV': 194356550496, 'VO': 179571253402, 'VH': 292359160564, 'BB': 0, 'SF': 340458159716, 'NB': 333908970744, 'KB': 179139218530, 'VV': 289076321071, 'NP': 1273953453198, 'SO': 282371792813, 'PN': 1072884456077, 'BP': 95728479137, 'BV': 578170702369, 'OB': 0, 'HV': 34410948802, 'PF': 71326434502, 'SP': 237306285777, 'HN': 272794352552, 'CV': 68821492528, 'BN': 578199473549, 'PS': 128022858258, 'CO': 45854542449, 'BS': 0, 'VB': 48752171646, 'PV': 382906558593, 'NN': 1036713000173, 'HS': 0, 'OS': 109866755943, 'FB': 0, 'HO': 91700788053, 'KH': 0, 'HB': 24375317909, 'VF': 113482193242, 'CK': 0, 'FF': 285261212947, 'FN': 68589632443, 'OK': 94760468536, 'SC': 210902498563, 'HH': 238431924989, 'OH': 96468497125, 'VS': 408861969123, 'FO': 89788118267, 'OC': 96467371577, 'NF': 230032424208, 'PH': 146176516794, 'HK': 750971708278, 'NH': 476894237804, 'FV': 220681633636, 'OF': 47383858922, 'NC': 145887321292, 'HP': 183388089483, 'KP': 0, 'BF': 35667063668, 'NO': 117837822055, 'CP': 372671582232, 'NS': 526729798541, 'VN': 493531096251, 'KV': 354304680710, 'OO': 212957676289, 'SN': 118656169450, 'KN': 453582901442, 'SH': 226933436040}\n",
      "20890720927744\n",
      "20\n",
      "3459822539451\n"
     ]
    }
   ],
   "source": [
    "rules_map = {rule[0]: (rule[0][0] + rule[1], rule[1] + rule[0][1]) for rule in rules}\n",
    "counts_map = {}\n",
    "for item in rules_map.keys():\n",
    "    counts_map[item] = 0\n",
    "    \n",
    "def seed(counts_map, s):\n",
    "    for x in range(len(s) - 1):\n",
    "        counts_map[s[x:x+2]] += 1\n",
    "    \n",
    "def apply(counts_map):\n",
    "    new_map = {k:0 for k,v in counts_map.items()}\n",
    "    for key, value in counts_map.items():\n",
    "        if value > 0:\n",
    "            rule = rules_map[key]\n",
    "            new_map[rule[0]] += value\n",
    "            new_map[rule[1]] += value\n",
    "    return new_map\n",
    "    \n",
    "seed(counts_map, template)\n",
    "print(counts_map)\n",
    "print(sum(counts_map.values()))\n",
    "print(len(template))\n",
    "\n",
    "for _ in range(40):\n",
    "    counts_map = apply(counts_map)\n",
    "    \n",
    "print(counts_map)\n",
    "print(sum(counts_map.values()))\n",
    "print(len(template))\n",
    "\n",
    "letter_counts = {s:0 for s in letters}\n",
    "for key, value in counts_map.items():\n",
    "    letter_counts[key[0]] += value\n",
    "letter_counts[template[-1]] += 1\n",
    "letter_count_items = list(letter_counts.items())\n",
    "counts = sorted(letter_count_items, key=lambda x: x[1])\n",
    "print(counts[-1][1] - counts[0][1])"
   ]
  },
  {
   "cell_type": "code",
   "execution_count": null,
   "id": "0dabd32c",
   "metadata": {},
   "outputs": [],
   "source": []
  }
 ],
 "metadata": {
  "kernelspec": {
   "display_name": "Python 3 (ipykernel)",
   "language": "python",
   "name": "python3"
  },
  "language_info": {
   "codemirror_mode": {
    "name": "ipython",
    "version": 3
   },
   "file_extension": ".py",
   "mimetype": "text/x-python",
   "name": "python",
   "nbconvert_exporter": "python",
   "pygments_lexer": "ipython3",
   "version": "3.9.7"
  }
 },
 "nbformat": 4,
 "nbformat_minor": 5
}
