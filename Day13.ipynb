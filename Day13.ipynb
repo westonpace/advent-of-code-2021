{
 "cells": [
  {
   "cell_type": "code",
   "execution_count": 56,
   "id": "a8835452",
   "metadata": {},
   "outputs": [],
   "source": [
    "points = []\n",
    "folds = []\n",
    "\n",
    "with open('day_13_input') as f:\n",
    "    switched = False\n",
    "    for line in f.readlines():\n",
    "        if line.strip():\n",
    "            if switched:\n",
    "                _, _, instruction = line.strip().rpartition(' ')\n",
    "                direction, _, value = instruction.partition('=')\n",
    "                folds.append((direction, int(value)))\n",
    "            else:\n",
    "                x, _, y = line.strip().partition(',')\n",
    "                points.append((int(x), int(y)))\n",
    "        else:\n",
    "            switched = True\n",
    "            \n",
    "width = max(point[0] for point in points) + 1\n",
    "height = max(point[1] for point in points) + 1"
   ]
  },
  {
   "cell_type": "code",
   "execution_count": 57,
   "id": "8d8934e1",
   "metadata": {},
   "outputs": [
    {
     "name": "stdout",
     "output_type": "stream",
     "text": [
      "750 initial points\n",
      "Folding 655 on axis 0\n",
      "610 points remain\n",
      "Folding 447 on axis 1\n",
      "502 points remain\n",
      "Folding 327 on axis 0\n",
      "416 points remain\n",
      "Folding 223 on axis 1\n",
      "346 points remain\n",
      "Folding 163 on axis 0\n",
      "287 points remain\n",
      "Folding 111 on axis 1\n",
      "245 points remain\n",
      "Folding 81 on axis 0\n",
      "217 points remain\n",
      "Folding 55 on axis 1\n",
      "179 points remain\n",
      "Folding 40 on axis 0\n",
      "150 points remain\n",
      "Folding 27 on axis 1\n",
      "128 points remain\n",
      "Folding 13 on axis 1\n",
      "106 points remain\n",
      "Folding 6 on axis 1\n",
      "95 points remain\n"
     ]
    }
   ],
   "source": [
    "def point_to_id(point):\n",
    "    return point[0] + (point[1] * width)\n",
    "\n",
    "pmap = {point_to_id(point):point for point in points}\n",
    "print(f'{len(pmap)} initial points')\n",
    "\n",
    "def fold(pmap, spot, axis):\n",
    "    print(f'Folding {spot} on axis {axis}')\n",
    "    new_pmap = {}\n",
    "    for point in pmap.values():\n",
    "        if point[axis] < spot:\n",
    "            new_pmap[point_to_id(point)] = point\n",
    "        else:\n",
    "            new_val = spot - (point[axis] - spot)\n",
    "            if axis == 0:\n",
    "                new_point = (new_val, point[1])\n",
    "            else:\n",
    "                new_point = (point[0], new_val)\n",
    "            new_pmap[point_to_id(new_point)] = new_point\n",
    "    return new_pmap\n",
    "            \n",
    "def fold_left(pmap, spot):\n",
    "    return fold(pmap, spot, 0)\n",
    "    \n",
    "def fold_up(pmap, spot):\n",
    "    return fold(pmap, spot, 1)\n",
    "    \n",
    "def fold_instruction(pmap, instruction):\n",
    "    if instruction[0] == 'x':\n",
    "        return fold_left(pmap, instruction[1])\n",
    "    else:\n",
    "        return fold_up(pmap, instruction[1])\n",
    "\n",
    "for f in folds:\n",
    "    pmap = fold_instruction(pmap, f)\n",
    "    print(f'{len(pmap)} points remain')\n"
   ]
  },
  {
   "cell_type": "code",
   "execution_count": 58,
   "id": "4176b814",
   "metadata": {},
   "outputs": [
    {
     "name": "stdout",
     "output_type": "stream",
     "text": [
      "###..####.####...##.#..#.###..####.####\n",
      "#..#....#.#.......#.#..#.#..#.#.......#\n",
      "#..#...#..###.....#.####.#..#.###....#.\n",
      "###...#...#.......#.#..#.###..#.....#..\n",
      "#....#....#....#..#.#..#.#.#..#....#...\n",
      "#....####.#.....##..#..#.#..#.#....####\n"
     ]
    }
   ],
   "source": [
    "gwidth = max(point[0] for point in pmap.values()) + 1\n",
    "gheight = max(point[1] for point in pmap.values()) + 1\n",
    "\n",
    "for row in range(gheight):\n",
    "    for col in range(gwidth):\n",
    "        if point_to_id((col, row)) in pmap:\n",
    "            print('#', end='')\n",
    "        else:\n",
    "            print('.', end='')\n",
    "    print()"
   ]
  },
  {
   "cell_type": "code",
   "execution_count": null,
   "id": "42b32089",
   "metadata": {},
   "outputs": [],
   "source": []
  }
 ],
 "metadata": {
  "kernelspec": {
   "display_name": "Python 3 (ipykernel)",
   "language": "python",
   "name": "python3"
  },
  "language_info": {
   "codemirror_mode": {
    "name": "ipython",
    "version": 3
   },
   "file_extension": ".py",
   "mimetype": "text/x-python",
   "name": "python",
   "nbconvert_exporter": "python",
   "pygments_lexer": "ipython3",
   "version": "3.9.7"
  }
 },
 "nbformat": 4,
 "nbformat_minor": 5
}
