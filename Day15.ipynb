{
 "cells": [
  {
   "cell_type": "code",
   "execution_count": 124,
   "id": "5d6128e1",
   "metadata": {},
   "outputs": [],
   "source": [
    "grid = []\n",
    "with open('day_15_input') as f:\n",
    "    for line in f.readlines():\n",
    "        grid.append([int(s) for s in line.strip()])"
   ]
  },
  {
   "cell_type": "code",
   "execution_count": 125,
   "id": "b788fbd2",
   "metadata": {},
   "outputs": [],
   "source": [
    "class Node(object):\n",
    "    \n",
    "    def __init__(self, idx, value):\n",
    "        self.neighbors = []\n",
    "        self.idx = idx\n",
    "        self.value = value\n",
    "        self.end = False\n",
    "                \n",
    "nodes = []\n",
    "        \n",
    "width = len(grid[0])\n",
    "height = len(grid)\n",
    "    \n",
    "def add_neighbor(nodes, idx, other_idx):\n",
    "    nodes[idx].neighbors.append(nodes[other_idx])\n",
    "    nodes[other_idx].neighbors.append(nodes[idx])\n",
    "    \n",
    "for row in range(height):\n",
    "    for col in range(width):\n",
    "        node = Node(len(nodes), grid[row][col])\n",
    "        idx = len(nodes)\n",
    "        nodes.append(node)\n",
    "        if row > 0:\n",
    "            # if col > 0:\n",
    "            #     add_neighbor(nodes, idx, idx - width - 1)\n",
    "            add_neighbor(nodes, idx, idx - width)\n",
    "            # if col < width - 1:\n",
    "            #     add_neighbor(nodes, idx, idx - width + 1)\n",
    "        if col > 0:\n",
    "            add_neighbor(nodes, idx, idx - 1)\n",
    "            \n",
    "nodes[-1].end = True"
   ]
  },
  {
   "cell_type": "code",
   "execution_count": 126,
   "id": "4e46b213",
   "metadata": {},
   "outputs": [
    {
     "name": "stdout",
     "output_type": "stream",
     "text": [
      "250000\n",
      "998000\n"
     ]
    }
   ],
   "source": [
    "big_nodes = [None] * len(nodes) * 5 * 5\n",
    "def new_cost(idx, grid_num):\n",
    "    old_cost = nodes[idx].value\n",
    "    next_cost = old_cost + grid_num\n",
    "    if next_cost > 9:\n",
    "        next_cost = next_cost - 9\n",
    "    return next_cost\n",
    "\n",
    "for y_idx in range(5):\n",
    "    for x_idx in range(5):\n",
    "        for i in range(len(nodes)):\n",
    "            x = i % width\n",
    "            y = i // width\n",
    "            new_idx = x_idx * width + x + y_idx * (height * width * 5) + (y * width * 5)\n",
    "            node = Node(new_idx, new_cost(i, y_idx + x_idx))\n",
    "            big_nodes[new_idx] = node\n",
    "            \n",
    "print(len(big_nodes))\n",
    "fullwidth = width * 5\n",
    "fullheight = height * 5\n",
    "for row in range(fullheight):\n",
    "    for col in range(fullwidth):\n",
    "        idx = row * fullwidth + col\n",
    "        if row > 0:\n",
    "            add_neighbor(big_nodes, idx, idx - fullwidth)\n",
    "        if col > 0:\n",
    "            add_neighbor(big_nodes, idx, idx - 1)\n",
    "            \n",
    "num_neighbors = 0\n",
    "for node in big_nodes:\n",
    "    num_neighbors += len(node.neighbors)\n",
    "print(num_neighbors)\n",
    "big_nodes[-1].end = True"
   ]
  },
  {
   "cell_type": "code",
   "execution_count": 127,
   "id": "ae11ce7b",
   "metadata": {},
   "outputs": [],
   "source": [
    "from heapq import heappush, heappop\n",
    "import itertools\n",
    "\n",
    "# Based on the implementation https://docs.python.org/3/library/heapq.html\n",
    "class PriorityQueue(object):\n",
    "    \n",
    "    def __init__(self):\n",
    "        self.pq = []\n",
    "        self.entry_finder = {}\n",
    "        self.counter = itertools.count()\n",
    "\n",
    "    def empty(self):\n",
    "        return len(self.pq) == 0\n",
    "            \n",
    "    def get_cost(self, task):\n",
    "        return self.entry_finder[task][0]\n",
    "        \n",
    "    def add_task(self, task, priority):\n",
    "        'Add a new task or update the priority of an existing task'\n",
    "        if task in self.entry_finder:\n",
    "            self.remove_task(task)\n",
    "        count = next(self.counter)\n",
    "        entry = [priority, count, task]\n",
    "        self.entry_finder[task] = entry\n",
    "        heappush(self.pq, entry)\n",
    "\n",
    "    def remove_task(self, task):\n",
    "        'Mark an existing task as REMOVED.  Raise KeyError if not found.'\n",
    "        entry = self.entry_finder.pop(task)\n",
    "        entry[-1] = None\n",
    "\n",
    "    def pop_task(self):\n",
    "        'Remove and return the lowest priority task. Raise KeyError if empty.'\n",
    "        while self.pq:\n",
    "            priority, count, task = heappop(self.pq)\n",
    "            if task is not None:\n",
    "                del self.entry_finder[task]\n",
    "                return task\n",
    "        raise KeyError('pop from an empty priority queue')\n"
   ]
  },
  {
   "cell_type": "code",
   "execution_count": 128,
   "id": "be0a1b86",
   "metadata": {},
   "outputs": [
    {
     "name": "stdout",
     "output_type": "stream",
     "text": [
      "2\n",
      "388\n",
      "2\n",
      "2808\n"
     ]
    }
   ],
   "source": [
    "def solve(nodes):\n",
    "    paths = []\n",
    "    for _ in range(len(nodes)):\n",
    "        paths.append(None)\n",
    "    paths[0] = [nodes[0]]\n",
    "    visited = [False] * len(nodes)\n",
    "\n",
    "    cost = [9999999999] * len(nodes)\n",
    "    unvisited = PriorityQueue()\n",
    "    for node in nodes[1:]:\n",
    "        unvisited.add_task(node, 9999999999)\n",
    "    cur_node = nodes[0]\n",
    "    cost[0] = 0\n",
    "    visited[0] = True\n",
    "    while not unvisited.empty():\n",
    "        if cur_node.end:\n",
    "            print(nodes[0].value)\n",
    "            print(sum([node.value for node in paths[cur_node.idx]]))\n",
    "            break\n",
    "        for neighbor in cur_node.neighbors:\n",
    "            if not visited[neighbor.idx]:\n",
    "                potential_cost = cost[cur_node.idx] + neighbor.value\n",
    "                if potential_cost < cost[neighbor.idx]:\n",
    "                    paths[neighbor.idx] = paths[cur_node.idx] + [neighbor]\n",
    "                    cost[neighbor.idx] = potential_cost\n",
    "                    unvisited.add_task(neighbor, potential_cost)\n",
    "        cur_node = unvisited.pop_task()\n",
    "        visited[cur_node.idx] = True\n",
    "        \n",
    "solve(nodes)\n",
    "solve(big_nodes)"
   ]
  },
  {
   "cell_type": "code",
   "execution_count": null,
   "id": "3945bbf2",
   "metadata": {},
   "outputs": [],
   "source": []
  }
 ],
 "metadata": {
  "kernelspec": {
   "display_name": "Python 3 (ipykernel)",
   "language": "python",
   "name": "python3"
  },
  "language_info": {
   "codemirror_mode": {
    "name": "ipython",
    "version": 3
   },
   "file_extension": ".py",
   "mimetype": "text/x-python",
   "name": "python",
   "nbconvert_exporter": "python",
   "pygments_lexer": "ipython3",
   "version": "3.9.7"
  }
 },
 "nbformat": 4,
 "nbformat_minor": 5
}
