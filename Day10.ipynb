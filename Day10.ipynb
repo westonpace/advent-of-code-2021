{
 "cells": [
  {
   "cell_type": "code",
   "execution_count": 21,
   "id": "b0ff7a42",
   "metadata": {},
   "outputs": [
    {
     "name": "stdout",
     "output_type": "stream",
     "text": [
      "90 lines\n"
     ]
    }
   ],
   "source": [
    "from statistics import median\n",
    "\n",
    "with open('day_10_input') as f:\n",
    "    lines = [line.strip() for line in f.readlines()]\n",
    "print(f'{len(lines)} lines')"
   ]
  },
  {
   "cell_type": "code",
   "execution_count": 22,
   "id": "9e334941",
   "metadata": {},
   "outputs": [
    {
     "name": "stdout",
     "output_type": "stream",
     "text": [
      "323613\n"
     ]
    }
   ],
   "source": [
    "openers = set('[({<')\n",
    "closers = set('])}>')\n",
    "expected = {\n",
    "    '[': ']',\n",
    "    '(': ')',\n",
    "    '{': '}',\n",
    "    '<': '>'\n",
    "}\n",
    "scores = {\n",
    "    ')': 3,\n",
    "    ']': 57,\n",
    "    '}': 1197,\n",
    "    '>': 25137\n",
    "}\n",
    "\n",
    "error_score = 0\n",
    "completion_strings = []\n",
    "for line in lines:\n",
    "    stack = []\n",
    "    bad = False\n",
    "    for c in line:\n",
    "        if c in openers:\n",
    "            stack.append(c)\n",
    "        else:\n",
    "            if c != expected[stack.pop()]:\n",
    "                error_score += scores[c]\n",
    "                bad = True\n",
    "                break\n",
    "    if not bad:\n",
    "        completion_strings.append(list(reversed([expected[c] for c in stack])))\n",
    "        \n",
    "print(error_score)"
   ]
  },
  {
   "cell_type": "code",
   "execution_count": 23,
   "id": "73880ce9",
   "metadata": {},
   "outputs": [
    {
     "name": "stdout",
     "output_type": "stream",
     "text": [
      "3103006161\n"
     ]
    }
   ],
   "source": [
    "points = {\n",
    "    ')': 1,\n",
    "    ']': 2,\n",
    "    '}': 3,\n",
    "    '>': 4\n",
    "}\n",
    "\n",
    "def score_completion_string(s):\n",
    "    score = 0\n",
    "    for c in s:\n",
    "        score = score * 5 + points[c]\n",
    "    return score\n",
    "\n",
    "completion_scores = [score_completion_string(s) for s in completion_strings]\n",
    "print(median(completion_scores))    "
   ]
  },
  {
   "cell_type": "code",
   "execution_count": null,
   "id": "8f553756",
   "metadata": {},
   "outputs": [],
   "source": []
  }
 ],
 "metadata": {
  "kernelspec": {
   "display_name": "Python 3 (ipykernel)",
   "language": "python",
   "name": "python3"
  },
  "language_info": {
   "codemirror_mode": {
    "name": "ipython",
    "version": 3
   },
   "file_extension": ".py",
   "mimetype": "text/x-python",
   "name": "python",
   "nbconvert_exporter": "python",
   "pygments_lexer": "ipython3",
   "version": "3.9.7"
  }
 },
 "nbformat": 4,
 "nbformat_minor": 5
}
